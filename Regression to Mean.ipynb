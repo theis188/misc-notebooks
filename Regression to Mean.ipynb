{
 "cells": [
  {
   "cell_type": "markdown",
   "metadata": {},
   "source": [
    "## What is regression to the mean?\n",
    "\n",
    "In the simplest terms:\n",
    "\n",
    "An extreme observation is likely to be followed by a measurement closer to the mean.\n",
    "\n",
    "It's a simple concept that many of us have encountered in a statistics class, or in real life. Once you understand it, the concept is simple, but there is a surprising amount of subtlety, and exceptions buried beneath the surface.\n",
    "\n",
    "First, what is an extreme observation? To call something extreme you have to have some idea what the average is, and that's not always possible. Second, there has to be some uncertainty in an observation--otherwise the new measurement would be exactly the same as the first. "
   ]
  },
  {
   "cell_type": "markdown",
   "metadata": {},
   "source": [
    "## Population and measurement variance\n",
    "\n",
    "For regression to the mean to occur, To understand regression to the mean, let's consider the case of standardized test scores. In this case, there is both population and measurement variance. Individuals in the population have a tendency to score differently. Each individual will also score differently day to day. With these conditions, and assuming roughly normal distributions, regression to the mean exists.\n",
    "\n",
    "So how would we observe it?\n",
    "\n",
    "We can do experiments to investigate. First let's take a sample to represent our population."
   ]
  },
  {
   "cell_type": "code",
   "execution_count": 1,
   "metadata": {},
   "outputs": [],
   "source": [
    "pop <- rnorm(10000, mean=0, sd=1)\n"
   ]
  },
  {
   "cell_type": "markdown",
   "metadata": {},
   "source": [
    "Now for each member of the population, we'll take two samples around it. We'll record the regression (how much closer to the population mean the second is versus the first) in each case. We'll keep track of all observations, and the instances where the first observation is extreme (half standard deviation away from mean).\n"
   ]
  },
  {
   "cell_type": "code",
   "execution_count": 2,
   "metadata": {},
   "outputs": [
    {
     "data": {
      "text/html": [
       "'All observation pairs, average regression = -0.0087'"
      ],
      "text/latex": [
       "'All observation pairs, average regression = -0.0087'"
      ],
      "text/markdown": [
       "'All observation pairs, average regression = -0.0087'"
      ],
      "text/plain": [
       "[1] \"All observation pairs, average regression = -0.0087\""
      ]
     },
     "metadata": {},
     "output_type": "display_data"
    },
    {
     "data": {
      "text/html": [
       "'First observation extreme, average regression 0.1559'"
      ],
      "text/latex": [
       "'First observation extreme, average regression 0.1559'"
      ],
      "text/markdown": [
       "'First observation extreme, average regression 0.1559'"
      ],
      "text/plain": [
       "[1] \"First observation extreme, average regression 0.1559\""
      ]
     },
     "metadata": {},
     "output_type": "display_data"
    }
   ],
   "source": [
    "all_arr <- c()\n",
    "extreme_arr <- c()\n",
    "for (mean in pop) {\n",
    "    reading1 <- rnorm(1,mean=mean, sd=0.5)\n",
    "    reading2 <- rnorm(1,mean=mean, sd=0.5)\n",
    "    towards_0 <- abs(reading1) - abs(reading2)\n",
    "    all_arr <- c(all_arr, towards_0 )\n",
    "    if (abs(reading1)>0.5) {\n",
    "        extreme_arr <- c(extreme_arr, towards_0)\n",
    "    }\n",
    "}\n",
    "\n",
    "sprintf( 'All observation pairs, average regression = %.4f', mean(all_arr) )\n",
    "sprintf( 'First observation extreme, average regression %.4f', mean(extreme_arr) )\n"
   ]
  },
  {
   "cell_type": "markdown",
   "metadata": {},
   "source": [
    "Wow that's pretty clear! So when does regression to the mean not apply? It turns out that it is the slope of the population distribution around the mean that determines regression. We can imagine distributions that don't work this way:"
   ]
  },
  {
   "cell_type": "code",
   "execution_count": 3,
   "metadata": {},
   "outputs": [],
   "source": [
    "rvdist <- function(n,spread=1,mean=0) {\n",
    "    numbers <- -10:10/(10/spread) + mean\n",
    "    weights <- c(10,9,8,7,6,5,4,3,2,1,0,1,2,3,4,5,6,7,8,9,10)\n",
    "    probs = weights/sum(weights)\n",
    "    return( sample(numbers,n,prob=probs,replace=TRUE) )\n",
    "}"
   ]
  },
  {
   "cell_type": "code",
   "execution_count": 4,
   "metadata": {},
   "outputs": [],
   "source": [
    "popn <- rvdist(10000)"
   ]
  },
  {
   "cell_type": "code",
   "execution_count": 5,
   "metadata": {},
   "outputs": [
    {
     "data": {
      "image/png": "[encoded data removed]",
      "text/plain": [
       "Plot with title \"Histogram of rvdist(10000)\""
      ]
     },
     "metadata": {},
     "output_type": "display_data"
    }
   ],
   "source": [
    "numbers <- -10:11/10-0.05\n",
    "hist( rvdist( 10000 ), breaks=numbers )"
   ]
  },
  {
   "cell_type": "code",
   "execution_count": 6,
   "metadata": {},
   "outputs": [
    {
     "data": {
      "text/html": [
       "'regression for first observation with extreme values between 0.5 and 0.7 = -0.1480'"
      ],
      "text/latex": [
       "'regression for first observation with extreme values between 0.5 and 0.7 = -0.1480'"
      ],
      "text/markdown": [
       "'regression for first observation with extreme values between 0.5 and 0.7 = -0.1480'"
      ],
      "text/plain": [
       "[1] \"regression for first observation with extreme values between 0.5 and 0.7 = -0.1480\""
      ]
     },
     "metadata": {},
     "output_type": "display_data"
    }
   ],
   "source": [
    "towards_arr <- c()\n",
    "for (mean in popn) {\n",
    "    reading1 <- rnorm(1,mean=mean, sd=0.5)\n",
    "    reading2 <- rnorm(1,mean=mean, sd=0.5) \n",
    "    if ( (abs(reading1)> 0.5) && (abs(reading1)<0.7) ) {\n",
    "        towards_0 <- abs(reading1) - abs(reading2)\n",
    "        towards_arr <- c(towards_arr, towards_0)\n",
    "    }\n",
    "}\n",
    "sprintf('regression for first observation with extreme values between 0.5 and 0.7 = %.4f',mean(towards_arr))"
   ]
  },
  {
   "cell_type": "markdown",
   "metadata": {},
   "source": [
    "In this example, regression to the mean actually becomes regression away from the mean! This shows us how many assumptions we make (like regression to the mean) depend fundamentally on well-behaved underlying population distributions."
   ]
  },
  {
   "cell_type": "code",
   "execution_count": null,
   "metadata": {},
   "outputs": [],
   "source": []
  }
 ],
 "metadata": {
  "kernelspec": {
   "display_name": "R",
   "language": "R",
   "name": "ir"
  },
  "language_info": {
   "codemirror_mode": "r",
   "file_extension": ".r",
   "mimetype": "text/x-r-source",
   "name": "R",
   "pygments_lexer": "r",
   "version": "3.5.1"
  }
 },
 "nbformat": 4,
 "nbformat_minor": 2
}
